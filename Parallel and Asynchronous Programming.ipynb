{
 "cells": [
  {
   "cell_type": "markdown",
   "metadata": {},
   "source": [
    "# Parallel and Asynchronous Programming with Stream and CompletableFuture\n",
    "\n",
    "### Parallel vs Asynchronous\n",
    "\n",
    "1. Nature of problems: Computation with speed\n",
    "2. When to use **parallel**: Processing collection of data - process the collection in parallel (Stream)\n",
    "3. When to use **asynchronous**: Solving a big problem - divide them in to smaller problems and conquer the results (CompletableFuture)"
   ]
  },
  {
   "cell_type": "markdown",
   "metadata": {},
   "source": [
    "### Parallel Streams"
   ]
  },
  {
   "cell_type": "markdown",
   "metadata": {},
   "source": [
    "##### Collection pipeline pattern\n",
    "Functional composition\n",
    "https://martinfowler.com/articles/collection-pipeline/\n",
    "\n",
    "###### In JAVA\n",
    "- Lazy evaluation\n",
    "- Pure functions (Easy to parallelize)"
   ]
  },
  {
   "cell_type": "code",
   "execution_count": 1,
   "metadata": {},
   "outputs": [],
   "source": [
    "import java.util.stream.Stream;"
   ]
  },
  {
   "cell_type": "markdown",
   "metadata": {},
   "source": [
    "#### From Imperative to Declarative (Functional)\n",
    "https://sookocheff.com/post/fp/what-is-functional-programming/"
   ]
  },
  {
   "cell_type": "code",
   "execution_count": 2,
   "metadata": {},
   "outputs": [
    {
     "name": "stdout",
     "output_type": "stream",
     "text": [
      "Imperative programming: How we do?\n",
      "Sum of even numbers: 6\n"
     ]
    }
   ],
   "source": [
    "List<Integer> numbers = Arrays.asList(1, 2, 3, 4, 5);\n",
    "\n",
    "System.out.println(\"Imperative programming: How we do?\");\n",
    "\n",
    "int sum = 0;\n",
    "\n",
    "for (int num : numbers) {\n",
    "    if (num % 2 == 0) {\n",
    "        sum += num;\n",
    "    }\n",
    "}\n",
    "\n",
    "System.out.println(\"Sum of even numbers: \" + sum);"
   ]
  },
  {
   "cell_type": "code",
   "execution_count": 3,
   "metadata": {},
   "outputs": [
    {
     "name": "stdout",
     "output_type": "stream",
     "text": [
      "Declarative programming: What we do?\n",
      "Sum of even numbers computed sequentially: 6\n"
     ]
    }
   ],
   "source": [
    "List<Integer> numbers = Arrays.asList(1, 2, 3, 4, 5);\n",
    "\n",
    "System.out.println(\"Declarative programming: What we do?\");\n",
    "\n",
    "int sum = numbers.stream()\n",
    "                .filter(num -> num % 2 == 0)\n",
    "                .mapToInt(num -> num)\n",
    "                .sum();\n",
    "\n",
    "System.out.println(\"Sum of even numbers computed sequentially: \" + sum);"
   ]
  },
  {
   "cell_type": "markdown",
   "metadata": {},
   "source": [
    "Stream - Internal iterator (Auto-pilot)\n",
    "\n",
    "Lambdas - Pure functions\n",
    "\n",
    "#### Before and after JAVA 8\n",
    "- In imperative style, multithreading was hard and complicated before JAVA 8 because *the structure of concurrent code was very different from the structure of sequential code*\n",
    "- After JAVA 8 (Streams), *the structure of concurrent code is the same as the structure of sequential code* which makes multithreading code a lot simpler\n",
    "\n",
    "#### Stream to Parallel Stream / Sequential to Parallel Execution\n",
    "\n",
    "Example: Let's make the previous code block parallel:"
   ]
  },
  {
   "cell_type": "code",
   "execution_count": 4,
   "metadata": {},
   "outputs": [
    {
     "name": "stdout",
     "output_type": "stream",
     "text": [
      "Structure of code remains the same after parallelizing\n",
      "Sum of even numbers computed concurrently: 6\n"
     ]
    }
   ],
   "source": [
    "List<Integer> numbers = Arrays.asList(1, 2, 3, 4, 5);\n",
    "\n",
    "System.out.println(\"Structure of code remains the same after parallelizing\");\n",
    "\n",
    "int sum = numbers.parallelStream()\n",
    "                .filter(num -> num % 2 == 0)\n",
    "                .mapToInt(num -> num)\n",
    "                .sum();\n",
    "\n",
    "System.out.println(\"Sum of even numbers computed concurrently: \" + sum);"
   ]
  },
  {
   "cell_type": "code",
   "execution_count": 5,
   "metadata": {},
   "outputs": [
    {
     "name": "stdout",
     "output_type": "stream",
     "text": [
      "1\n",
      "2\n",
      "3\n"
     ]
    }
   ],
   "source": [
    "List<Integer> numbers = Arrays.asList(1, 2, 3);\n",
    "\n",
    "public void sleep(long ms){\n",
    "    try {\n",
    "        Thread.sleep(ms);\n",
    "    } catch (InterruptedException e) {\n",
    "        e.printStackTrace();\n",
    "    }\n",
    "}\n",
    "\n",
    "public int transform(int number) {\n",
    "    sleep(1000);\n",
    "    return number;\n",
    "}\n",
    "\n",
    "numbers.stream()\n",
    "    .map(num -> transform(num))\n",
    "    .forEach(System.out::println);"
   ]
  },
  {
   "cell_type": "code",
   "execution_count": 6,
   "metadata": {},
   "outputs": [
    {
     "name": "stdout",
     "output_type": "stream",
     "text": [
      "2\n",
      "3\n",
      "1\n"
     ]
    }
   ],
   "source": [
    "List<Integer> numbers = Arrays.asList(1, 2, 3);\n",
    "\n",
    "public void sleep(long ms){\n",
    "    try {\n",
    "        Thread.sleep(ms);\n",
    "    } catch (InterruptedException e) {\n",
    "        e.printStackTrace();\n",
    "    }\n",
    "}\n",
    "\n",
    "public int transform(int number) {\n",
    "    sleep(1000);\n",
    "    return number;\n",
    "}\n",
    "\n",
    "numbers.parallelStream()\n",
    "    .map(num -> transform(num))\n",
    "    .forEach(System.out::println);"
   ]
  },
  {
   "cell_type": "markdown",
   "metadata": {},
   "source": [
    "##### parallelStream() vs parallel()\n",
    "- When we are the creator (eg. Collection) of the stream, then use parallelStream()\n",
    "  - Example: numbers.parallelStream() in the previous code block, we are the source of List of numbers\n",
    "- When we are processing a stream from another source, then use parallel()\n",
    "  - Example: A method which processes the stream -"
   ]
  },
  {
   "cell_type": "code",
   "execution_count": 7,
   "metadata": {},
   "outputs": [
    {
     "name": "stdout",
     "output_type": "stream",
     "text": [
      "1\n",
      "3\n",
      "2\n"
     ]
    }
   ],
   "source": [
    "public int transform(int number) {\n",
    "    return number;\n",
    "}\n",
    "\n",
    "public void workWithStream(Stream<Integer> stream) {\n",
    "    stream.parallel()\n",
    "        .map(num -> transform(num))\n",
    "        .forEach(System.out::println);\n",
    "    return;\n",
    "}\n",
    "\n",
    "workWithStream(numbers.stream());"
   ]
  },
  {
   "cell_type": "markdown",
   "metadata": {},
   "source": [
    "#### Observing Threads\n",
    "\n",
    "- JAVA 1 - Threads\n",
    "- JAVA 5 - ExecutorService (Pool of threads)\n",
    "    - Problem: Pool induced deadlock\n",
    "    - Work stealing\n",
    "- JAVA 7 - ForkJoinPool\n",
    "- JAVA 8 - Streams\n",
    "    - Uses common ForkJoinPool by default"
   ]
  },
  {
   "cell_type": "code",
   "execution_count": 8,
   "metadata": {},
   "outputs": [
    {
     "name": "stdout",
     "output_type": "stream",
     "text": [
      "Sequential Execution\n",
      "transform: 1--Thread[IJava-executor-0,5,main]\n",
      "1\n",
      "transform: 2--Thread[IJava-executor-0,5,main]\n",
      "2\n",
      "transform: 3--Thread[IJava-executor-0,5,main]\n",
      "3\n"
     ]
    }
   ],
   "source": [
    "System.out.println(\"Sequential Execution\");\n",
    "\n",
    "List<Integer> numbers = Arrays.asList(1, 2, 3);\n",
    "\n",
    "public int transform(int number) {\n",
    "    System.out.println(\"transform: \" + number + \"--\" + Thread.currentThread());\n",
    "    return number;\n",
    "}\n",
    "\n",
    "numbers.stream()\n",
    "    .map(num -> transform(num))\n",
    "    .forEach(System.out::println);"
   ]
  },
  {
   "cell_type": "code",
   "execution_count": 9,
   "metadata": {},
   "outputs": [
    {
     "name": "stdout",
     "output_type": "stream",
     "text": [
      "Parallel Execution\n",
      "transform: 2--Thread[IJava-executor-0,5,main]\n",
      "2\n",
      "transform: 3--Thread[ForkJoinPool.commonPool-worker-27,5,main]\n",
      "transform: 1--Thread[ForkJoinPool.commonPool-worker-5,5,main]\n",
      "1\n",
      "3\n"
     ]
    }
   ],
   "source": [
    "System.out.println(\"Parallel Execution\");\n",
    "\n",
    "List<Integer> numbers = Arrays.asList(1, 2, 3);\n",
    "\n",
    "public int transform(int number) {\n",
    "    System.out.println(\"transform: \" + number + \"--\" + Thread.currentThread());\n",
    "    return number;\n",
    "}\n",
    "\n",
    "numbers.stream()\n",
    "    .parallel()\n",
    "    .map(num -> transform(num))\n",
    "    .forEach(System.out::println);"
   ]
  },
  {
   "cell_type": "markdown",
   "metadata": {},
   "source": [
    "##### Both parallel() and sequential()\n",
    "When both parallel() and sequential() are present in the pipeline - Entire pipiline runs either parallelly and sequentially whichever is the last one"
   ]
  },
  {
   "cell_type": "code",
   "execution_count": 10,
   "metadata": {},
   "outputs": [
    {
     "name": "stdout",
     "output_type": "stream",
     "text": [
      "Sequential Execution as it is the last one\n",
      "transform: Thread[IJava-executor-0,5,main]\n",
      "1\n",
      "transform: Thread[IJava-executor-0,5,main]\n",
      "2\n",
      "transform: Thread[IJava-executor-0,5,main]\n",
      "3\n"
     ]
    }
   ],
   "source": [
    "System.out.println(\"Sequential Execution as it is the last one\");\n",
    "\n",
    "List<Integer> numbers = Arrays.asList(1, 2, 3);\n",
    "\n",
    "public int transform(int number) {\n",
    "    System.out.println(\"transform: \" + Thread.currentThread());\n",
    "    return number;\n",
    "}\n",
    "\n",
    "numbers.stream()\n",
    "    .parallel()\n",
    "    .map(num -> transform(num))\n",
    "    .sequential()\n",
    "    .forEach(System.out::println);"
   ]
  },
  {
   "cell_type": "markdown",
   "metadata": {},
   "source": [
    "#### Streams vs Reactive Stream\n",
    "\n",
    "| Streams | Reactive Stream |\n",
    "| --- | --- |\n",
    "| Sequential vs Parallel | Sync vs Async |\n",
    "| Entire pipeline is either sequential or parallel / no segments | Depends - subscribeOn - no segments, observeOn - segments |"
   ]
  },
  {
   "cell_type": "markdown",
   "metadata": {},
   "source": [
    "#### Order of execution\n",
    "- Sequential: Order is preserved, irrespective of the collection is ordered (List) or unordered (Set)\n",
    "- Parallel: Order is not preserved, irrespective of the collection is ordered (List) or unordered (Set)\n",
    "\n",
    "For parallel execution, Ordering is generally imposed on terminal operations (like forEachOrdered)"
   ]
  },
  {
   "cell_type": "markdown",
   "metadata": {},
   "source": [
    "#### Controlling the order\n",
    "#### Inherently ordered:\n",
    "- map\n",
    "- findFirst\n",
    "\n",
    "#### Explicit ordering is needed / ordered counterpart:\n",
    "- forEachOrdered - It's not sequential execution but the sequence is followed during parallel execution"
   ]
  },
  {
   "cell_type": "markdown",
   "metadata": {},
   "source": [
    "##### Operations that can be parallelized without worrying about the order\n",
    "\n",
    "- map\n",
    "- filter\n",
    "- reduce"
   ]
  },
  {
   "cell_type": "markdown",
   "metadata": {},
   "source": [
    "#### Map - Parallel"
   ]
  },
  {
   "cell_type": "code",
   "execution_count": 11,
   "metadata": {},
   "outputs": [
    {
     "name": "stdout",
     "output_type": "stream",
     "text": [
      "transform: 2 : Thread[IJava-executor-0,5,main]\n",
      "transform: 3 : Thread[ForkJoinPool.commonPool-worker-5,5,main]\n",
      "transform: 1 : Thread[ForkJoinPool.commonPool-worker-27,5,main]\n",
      "printIt: 1 : Thread[ForkJoinPool.commonPool-worker-27,5,main]\n",
      "printIt: 2 : Thread[ForkJoinPool.commonPool-worker-27,5,main]\n",
      "printIt: 3 : Thread[ForkJoinPool.commonPool-worker-27,5,main]\n"
     ]
    }
   ],
   "source": [
    "List<Integer> numbers = Arrays.asList(1, 2, 3);\n",
    "\n",
    "public int transform(int number) {\n",
    "    System.out.println(\"transform: \" + number + \" : \" + Thread.currentThread());\n",
    "    sleep(2000);\n",
    "    return number;\n",
    "}\n",
    "\n",
    "public void printIt(int number) {\n",
    "    System.out.println(\"printIt: \" + number + \" : \" + Thread.currentThread());\n",
    "}\n",
    "\n",
    "numbers.stream()\n",
    "    .parallel()\n",
    "    .map(num -> transform(num))\n",
    "    .forEachOrdered(num -> printIt(num));"
   ]
  },
  {
   "cell_type": "markdown",
   "metadata": {},
   "source": [
    "#### Filter - Parallel"
   ]
  },
  {
   "cell_type": "code",
   "execution_count": 12,
   "metadata": {},
   "outputs": [
    {
     "name": "stdout",
     "output_type": "stream",
     "text": [
      "transform: 2 : Thread[IJava-executor-0,5,main]\n",
      "transform: 3 : Thread[ForkJoinPool.commonPool-worker-5,5,main]\n",
      "transform: 1 : Thread[ForkJoinPool.commonPool-worker-27,5,main]\n",
      "printIt: 1 : Thread[ForkJoinPool.commonPool-worker-27,5,main]\n",
      "printIt: 2 : Thread[ForkJoinPool.commonPool-worker-27,5,main]\n",
      "printIt: 3 : Thread[ForkJoinPool.commonPool-worker-27,5,main]\n"
     ]
    }
   ],
   "source": [
    "List<Integer> numbers = Arrays.asList(1, 2, 3);\n",
    "\n",
    "public void sleep(long ms){\n",
    "    try {\n",
    "        Thread.sleep(ms);\n",
    "    } catch (InterruptedException e) {\n",
    "        e.printStackTrace();\n",
    "    }\n",
    "}\n",
    "\n",
    "public boolean check(int number) {\n",
    "    System.out.println(\"transform: \" + number + \" : \" + Thread.currentThread());\n",
    "    sleep(2000);\n",
    "    return true;\n",
    "}\n",
    "\n",
    "public void printIt(int number) {\n",
    "    System.out.println(\"printIt: \" + number + \" : \" + Thread.currentThread());\n",
    "}\n",
    "\n",
    "numbers.stream()\n",
    "    .parallel()\n",
    "    .filter(num -> check(num))\n",
    "    .forEachOrdered(num -> printIt(num));"
   ]
  },
  {
   "cell_type": "markdown",
   "metadata": {},
   "source": [
    "#### Reduce - Parallel"
   ]
  },
  {
   "cell_type": "code",
   "execution_count": 13,
   "metadata": {},
   "outputs": [
    {
     "name": "stdout",
     "output_type": "stream",
     "text": [
      "Sequential Reduce\n",
      "total: 0 e: 1 result: 1 : Thread[IJava-executor-0,5,main]\n",
      "total: 1 e: 2 result: 3 : Thread[IJava-executor-0,5,main]\n",
      "total: 3 e: 3 result: 6 : Thread[IJava-executor-0,5,main]\n",
      "6\n",
      "\n",
      "Parallel Reduce\n",
      "total: 0 e: 2 result: 2 : Thread[IJava-executor-0,5,main]\n",
      "total: 0 e: 3 result: 3 : Thread[ForkJoinPool.commonPool-worker-5,5,main]\n",
      "total: 0 e: 1 result: 1 : Thread[ForkJoinPool.commonPool-worker-27,5,main]\n",
      "total: 2 e: 3 result: 5 : Thread[ForkJoinPool.commonPool-worker-5,5,main]\n",
      "total: 1 e: 5 result: 6 : Thread[ForkJoinPool.commonPool-worker-5,5,main]\n",
      "6\n"
     ]
    }
   ],
   "source": [
    "List<Integer> numbers = Arrays.asList(1, 2, 3);\n",
    "\n",
    "public int add(int total, int e) {\n",
    "    int result = total + e;\n",
    "    System.out.println(\"total: \" + total + \" e: \" + e + \" result: \" + result + \" : \" + Thread.currentThread());\n",
    "    return result;\n",
    "    \n",
    "}\n",
    "\n",
    "System.out.println(\"Sequential Reduce\");\n",
    "System.out.println(numbers.stream()\n",
    "                        .reduce(0, (total, e) -> add(total, e)));\n",
    "\n",
    "System.out.println(\"\");\n",
    "\n",
    "System.out.println(\"Parallel Reduce\");\n",
    "System.out.println(numbers.stream()\n",
    "                    .parallel()\n",
    "                    .reduce(0, (total, e) -> add(total, e)));"
   ]
  },
  {
   "cell_type": "markdown",
   "metadata": {},
   "source": [
    "#### Use an identity value as the intial value whenever reduce operation is executed parallely \n",
    "\n",
    "Identity value? For addition it's 0 (0 + x = x), for multiplication it's 1 (1 * x = x), ....."
   ]
  },
  {
   "cell_type": "code",
   "execution_count": 14,
   "metadata": {},
   "outputs": [
    {
     "name": "stdout",
     "output_type": "stream",
     "text": [
      "Sequential Reduce\n",
      "total: 10 e: 1 result: 11 : Thread[IJava-executor-0,5,main]\n",
      "total: 11 e: 2 result: 13 : Thread[IJava-executor-0,5,main]\n",
      "total: 13 e: 3 result: 16 : Thread[IJava-executor-0,5,main]\n",
      "16\n",
      "\n",
      "Parallel Reduce\n",
      "total: 10 e: 2 result: 12 : Thread[IJava-executor-0,5,main]\n",
      "total: 10 e: 3 result: 13 : Thread[ForkJoinPool.commonPool-worker-9,5,main]\n",
      "total: 12 e: 13 result: 25 : Thread[ForkJoinPool.commonPool-worker-9,5,main]\n",
      "total: 10 e: 1 result: 11 : Thread[ForkJoinPool.commonPool-worker-5,5,main]\n",
      "total: 11 e: 25 result: 36 : Thread[ForkJoinPool.commonPool-worker-5,5,main]\n",
      "36\n"
     ]
    }
   ],
   "source": [
    "List<Integer> numbers = Arrays.asList(1, 2, 3);\n",
    "\n",
    "public int add(int total, int e) {\n",
    "    int result = total + e;\n",
    "    System.out.println(\"total: \" + total + \" e: \" + e + \" result: \" + result + \" : \" + Thread.currentThread());\n",
    "    return result;\n",
    "    \n",
    "}\n",
    "\n",
    "System.out.println(\"Sequential Reduce\");\n",
    "System.out.println(numbers.stream()\n",
    "                        .reduce(10, (total, e) -> add(total, e)));\n",
    "\n",
    "System.out.println(\"\");\n",
    "\n",
    "System.out.println(\"Parallel Reduce\");\n",
    "System.out.println(numbers.stream()\n",
    "                    .parallel()\n",
    "                    .reduce(10, (total, e) -> add(total, e)));"
   ]
  },
  {
   "cell_type": "markdown",
   "metadata": {},
   "source": [
    "##### The correct way of doing the above operation is add 10 after reduce operation"
   ]
  },
  {
   "cell_type": "code",
   "execution_count": 15,
   "metadata": {},
   "outputs": [
    {
     "name": "stdout",
     "output_type": "stream",
     "text": [
      "Sequential Reduce\n",
      "total: 10 e: 1 result: 11 : Thread[IJava-executor-0,5,main]\n",
      "total: 11 e: 2 result: 13 : Thread[IJava-executor-0,5,main]\n",
      "total: 13 e: 3 result: 16 : Thread[IJava-executor-0,5,main]\n",
      "16\n",
      "\n",
      "Parallel Reduce\n",
      "total: 0 e: 2 result: 2 : Thread[IJava-executor-0,5,main]\n",
      "total: 0 e: 3 result: 3 : Thread[ForkJoinPool.commonPool-worker-5,5,main]\n",
      "total: 0 e: 1 result: 1 : Thread[ForkJoinPool.commonPool-worker-9,5,main]\n",
      "total: 2 e: 3 result: 5 : Thread[ForkJoinPool.commonPool-worker-5,5,main]\n",
      "total: 1 e: 5 result: 6 : Thread[ForkJoinPool.commonPool-worker-5,5,main]\n",
      "16\n"
     ]
    }
   ],
   "source": [
    "List<Integer> numbers = Arrays.asList(1, 2, 3);\n",
    "\n",
    "public int add(int total, int e) {\n",
    "    int result = total + e;\n",
    "    System.out.println(\"total: \" + total + \" e: \" + e + \" result: \" + result + \" : \" + Thread.currentThread());\n",
    "    return result;\n",
    "    \n",
    "}\n",
    "\n",
    "System.out.println(\"Sequential Reduce\");\n",
    "System.out.println(numbers.stream()\n",
    "                        .reduce(10, (total, e) -> add(total, e)));\n",
    "\n",
    "System.out.println(\"\");\n",
    "\n",
    "System.out.println(\"Parallel Reduce\");\n",
    "System.out.println(numbers.stream()\n",
    "                    .parallel()\n",
    "                    .reduce(0, (total, e) -> add(total, e)) + 10);"
   ]
  },
  {
   "cell_type": "markdown",
   "metadata": {},
   "source": [
    "#### How many threads should I create?\n",
    "\n",
    "Number of threads <= Number of cores / ( 1 - blocking factor )\n",
    "\n",
    "where, blocking factor = factor of rest time of CPU, 0 <= blocking factor < 1"
   ]
  },
  {
   "cell_type": "markdown",
   "metadata": {},
   "source": [
    "#### Computation intensive:\n",
    "\n",
    "blocking factor is close to 0:\n",
    "\n",
    "Number of threads <= Number of cores\n",
    "\n",
    "General practice: Number of threads = Number of cores (Java Implementation for ForkJoinPool.commonPool() has ( Number of cores - 1 ) threads + Main thread"
   ]
  },
  {
   "cell_type": "markdown",
   "metadata": {},
   "source": [
    "#### I/O intensive:\n",
    "\n",
    "If blocking factor is 0.5:\n",
    "\n",
    "Number of threads <= 2 * Number of cores"
   ]
  },
  {
   "cell_type": "code",
   "execution_count": 16,
   "metadata": {},
   "outputs": [
    {
     "name": "stdout",
     "output_type": "stream",
     "text": [
      "Number of cores: 16\n"
     ]
    }
   ],
   "source": [
    "System.out.println(\"Number of cores: \" + Runtime.getRuntime().availableProcessors());"
   ]
  },
  {
   "cell_type": "code",
   "execution_count": 17,
   "metadata": {},
   "outputs": [
    {
     "name": "stdout",
     "output_type": "stream",
     "text": [
      "java.util.concurrent.ForkJoinPool@7b5a2aef[Running, parallelism = 15, size = 5, active = 0, running = 0, steals = 20, tasks = 0, submissions = 0]\n"
     ]
    }
   ],
   "source": [
    "System.out.println(ForkJoinPool.commonPool());"
   ]
  },
  {
   "cell_type": "code",
   "execution_count": 18,
   "metadata": {},
   "outputs": [
    {
     "name": "stdout",
     "output_type": "stream",
     "text": [
      "transform: 13 : Thread[IJava-executor-0,5,main]\n",
      "transform: 15 : Thread[ForkJoinPool.commonPool-worker-3,5,main]\n",
      "transform: 16 : Thread[ForkJoinPool.commonPool-worker-13,5,main]\n",
      "transform: 14 : Thread[ForkJoinPool.commonPool-worker-17,5,main]\n",
      "transform: 19 : Thread[ForkJoinPool.commonPool-worker-21,5,main]\n",
      "transform: 12 : Thread[ForkJoinPool.commonPool-worker-27,5,main]\n",
      "transform: 17 : Thread[ForkJoinPool.commonPool-worker-19,5,main]\n",
      "transform: 4 : Thread[ForkJoinPool.commonPool-worker-15,5,main]\n",
      "transform: 9 : Thread[ForkJoinPool.commonPool-worker-7,5,main]\n",
      "transform: 7 : Thread[ForkJoinPool.commonPool-worker-5,5,main]\n",
      "transform: 5 : Thread[ForkJoinPool.commonPool-worker-25,5,main]\n",
      "transform: 18 : Thread[ForkJoinPool.commonPool-worker-9,5,main]\n",
      "transform: 3 : Thread[ForkJoinPool.commonPool-worker-23,5,main]\n",
      "transform: 11 : Thread[ForkJoinPool.commonPool-worker-11,5,main]\n",
      "transform: 20 : Thread[ForkJoinPool.commonPool-worker-31,5,main]\n",
      "transform: 2 : Thread[ForkJoinPool.commonPool-worker-29,5,main]\n",
      "transform: 1 : Thread[ForkJoinPool.commonPool-worker-3,5,main]\n",
      "transform: 10 : Thread[ForkJoinPool.commonPool-worker-21,5,main]\n",
      "transform: 8 : Thread[ForkJoinPool.commonPool-worker-17,5,main]\n",
      "transform: 6 : Thread[ForkJoinPool.commonPool-worker-13,5,main]\n"
     ]
    }
   ],
   "source": [
    "List<Integer> numbers = Arrays.asList(1, 2, 3, 4, 5, 6, 7, 8, 9, 10, 11, 12, 13, 14, 15, 16, 17, 18, 19, 20);\n",
    "\n",
    "public void sleep(long ms){\n",
    "    try {\n",
    "        Thread.sleep(ms);\n",
    "    } catch (InterruptedException e) {\n",
    "        e.printStackTrace();\n",
    "    }\n",
    "}\n",
    "\n",
    "public int transform(int number) {\n",
    "    System.out.println(\"transform: \" + number + \" : \" + Thread.currentThread());\n",
    "    sleep(1000);\n",
    "    return number;\n",
    "}\n",
    "\n",
    "numbers.parallelStream()\n",
    "    .parallel()\n",
    "    .map(num -> transform(num))\n",
    "    .forEach(e -> {});"
   ]
  },
  {
   "cell_type": "markdown",
   "metadata": {},
   "source": [
    "#### Configuring number of threads JVM wide\n",
    "-Djava.util.concurrent.ForkJoinPool.common.parallelism=100\n",
    "##### Problem\n",
    "This is applied for the whole JVM, so threads compete and performance degrade incase of computation intensive operations\n"
   ]
  },
  {
   "cell_type": "code",
   "execution_count": 19,
   "metadata": {},
   "outputs": [
    {
     "name": "stdout",
     "output_type": "stream",
     "text": [
      "transform: 13 : Thread[ForkJoinPool-1-worker-115,5,main]\n",
      "transform: 2 : Thread[ForkJoinPool-1-worker-31,5,main]\n",
      "transform: 1 : Thread[ForkJoinPool-1-worker-117,5,main]\n",
      "transform: 14 : Thread[ForkJoinPool-1-worker-5,5,main]\n",
      "transform: 11 : Thread[ForkJoinPool-1-worker-145,5,main]\n",
      "transform: 18 : Thread[ForkJoinPool-1-worker-87,5,main]\n",
      "transform: 12 : Thread[ForkJoinPool-1-worker-59,5,main]\n",
      "transform: 16 : Thread[ForkJoinPool-1-worker-175,5,main]\n",
      "transform: 20 : Thread[ForkJoinPool-1-worker-89,5,main]\n",
      "transform: 19 : Thread[ForkJoinPool-1-worker-205,5,main]\n",
      "transform: 5 : Thread[ForkJoinPool-1-worker-33,5,main]\n",
      "transform: 15 : Thread[ForkJoinPool-1-worker-231,5,main]\n",
      "transform: 10 : Thread[ForkJoinPool-1-worker-61,5,main]\n",
      "transform: 6 : Thread[ForkJoinPool-1-worker-203,5,main]\n",
      "transform: 9 : Thread[ForkJoinPool-1-worker-3,5,main]\n",
      "transform: 8 : Thread[ForkJoinPool-1-worker-147,5,main]\n",
      "transform: 4 : Thread[ForkJoinPool-1-worker-63,5,main]\n",
      "transform: 17 : Thread[ForkJoinPool-1-worker-173,5,main]\n",
      "transform: 7 : Thread[ForkJoinPool-1-worker-229,5,main]\n",
      "transform: 3 : Thread[ForkJoinPool-1-worker-201,5,main]\n"
     ]
    }
   ],
   "source": [
    "List<Integer> numbers = Arrays.asList(1, 2, 3, 4, 5, 6, 7, 8, 9, 10, 11, 12, 13, 14, 15, 16, 17, 18, 19, 20);\n",
    "\n",
    "public void sleep(long ms){\n",
    "    try {\n",
    "        Thread.sleep(ms);\n",
    "    } catch (InterruptedException e) {\n",
    "        e.printStackTrace();\n",
    "    }\n",
    "}\n",
    "\n",
    "public void process(Stream<Integer> stream) throws InterruptedException {\n",
    "    ForkJoinPool pool = new ForkJoinPool(100);\n",
    "    pool.submit(() -> stream.forEach(e -> {}));\n",
    "    pool.shutdown();\n",
    "    pool.awaitTermination(10, TimeUnit.SECONDS);\n",
    "}\n",
    "\n",
    "public int transform(int number) {\n",
    "    System.out.println(\"transform: \" + number + \" : \" + Thread.currentThread());\n",
    "    sleep(1000);\n",
    "    return number;\n",
    "}\n",
    "\n",
    "process(numbers.parallelStream()\n",
    "            .map(num -> transform(num)));"
   ]
  },
  {
   "cell_type": "markdown",
   "metadata": {},
   "source": [
    "From above example it's clear that the **thread / thread pool in which the terminal operation is present is the one executing the whole stream pipeline**"
   ]
  },
  {
   "cell_type": "markdown",
   "metadata": {},
   "source": [
    "With Lazy evaluation, parallelStream might be using more resources than needed"
   ]
  },
  {
   "cell_type": "code",
   "execution_count": null,
   "metadata": {},
   "outputs": [],
   "source": []
  }
 ],
 "metadata": {
  "kernelspec": {
   "display_name": "Java",
   "language": "java",
   "name": "java"
  },
  "language_info": {
   "codemirror_mode": "java",
   "file_extension": ".jshell",
   "mimetype": "text/x-java-source",
   "name": "Java",
   "pygments_lexer": "java",
   "version": "11.0.4+11-post-Ubuntu-1ubuntu218.04.3"
  }
 },
 "nbformat": 4,
 "nbformat_minor": 2
}
